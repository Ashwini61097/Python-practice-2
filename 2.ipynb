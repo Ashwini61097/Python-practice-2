{
 "cells": [
  {
   "cell_type": "markdown",
   "id": "9d0306d6",
   "metadata": {},
   "source": [
    "Task\n",
    "\n",
    "You are given a X integer array matrix with space separated elements ( r = rows and c = columns).\n",
    "Your task is to print the transpose and flatten results.\n"
   ]
  },
  {
   "cell_type": "code",
   "execution_count": 1,
   "id": "f10c6874",
   "metadata": {},
   "outputs": [
    {
     "name": "stdout",
     "output_type": "stream",
     "text": [
      "2 2\n",
      "1 2\n",
      "3 5\n",
      "[[1 3]\n",
      " [2 5]]\n",
      "[1 2 3 5]\n"
     ]
    }
   ],
   "source": [
    "import numpy\n",
    "# r = int(input(\"No. of rows\"))\n",
    "# c = int(input(\"No. of columns\"))\n",
    "\n",
    "# The first line contains the space separated values of N and M. \n",
    "r, c = list(map(int, input().split()))\n",
    "#print(r)\n",
    "#print(f\"c: {c}\")\n",
    "\n",
    "# The next N lines contains the space separated elements of M columns.\n",
    "b = []\n",
    "for i in range(r):\n",
    "  a = list(map(int, input().split()))[:c]\n",
    "  b.append(a)\n",
    "#print(b)\n",
    "my_array = numpy.array(b)\n",
    "print(numpy.transpose(my_array))\n",
    "print(my_array.flatten())\n"
   ]
  },
  {
   "cell_type": "code",
   "execution_count": null,
   "id": "47301f4f",
   "metadata": {},
   "outputs": [],
   "source": []
  }
 ],
 "metadata": {
  "kernelspec": {
   "display_name": "Python 3 (ipykernel)",
   "language": "python",
   "name": "python3"
  },
  "language_info": {
   "codemirror_mode": {
    "name": "ipython",
    "version": 3
   },
   "file_extension": ".py",
   "mimetype": "text/x-python",
   "name": "python",
   "nbconvert_exporter": "python",
   "pygments_lexer": "ipython3",
   "version": "3.9.12"
  }
 },
 "nbformat": 4,
 "nbformat_minor": 5
}
